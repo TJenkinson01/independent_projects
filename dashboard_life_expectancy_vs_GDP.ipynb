{
 "cells": [
  {
   "cell_type": "code",
   "execution_count": 17,
   "id": "f786bbe7-291e-4bd8-be95-9690ce04e50f",
   "metadata": {},
   "outputs": [],
   "source": [
    "import plotly.express as px\n",
    "import pandas as pd\n",
    "from jupyter_dash import JupyterDash\n",
    "import dash_core_components as dcc\n",
    "import dash_html_components as html\n",
    "from dash.dependencies import Input, Output"
   ]
  },
  {
   "cell_type": "code",
   "execution_count": 18,
   "id": "3c0a2e26-e10d-4318-a277-f7c7869cbec0",
   "metadata": {},
   "outputs": [],
   "source": [
    "app = JupyterDash()\n",
    "\n",
    "df = pd.read_csv(\n",
    "    \"https://raw.githubusercontent.com/ThuwarakeshM/geting-started-with-plottly-dash/main/life_expectancy.csv\"\n",
    ")\n",
    "\n",
    "fig = px.scatter(\n",
    "    df,\n",
    "    x=\"GDP\",\n",
    "    y=\"Life expectancy\",\n",
    "    size=\"Population\",\n",
    "    color=\"continent\",\n",
    "    hover_name=\"Country\",\n",
    "    log_x=True,\n",
    "    size_max=60,\n",
    ")\n",
    "\n",
    "app.layout = html.Div(\n",
    "    [   \n",
    "        # Dropdown to filter developing/developed country.\n",
    "        html.Div(\n",
    "            [\n",
    "                dcc.Dropdown(\n",
    "                    id=\"status-dropdown\",\n",
    "                    options=[{\"label\": s, \"value\": s} for s in df.Status.unique()], # Create available options from the dataset\n",
    "                ),\n",
    "            ]\n",
    "        ),\n",
    "        # Dropdown to filter countries with average schooling years.\n",
    "        html.Div(\n",
    "            [\n",
    "                dcc.Dropdown(\n",
    "                    id=\"schooling-dropdown\",\n",
    "                    options=[\n",
    "                        {\"label\": y, \"value\": y}\n",
    "                        for y in range(\n",
    "                            int(df.Schooling.min()), int(df.Schooling.max()) + 1\n",
    "                        )\n",
    "                    ], # add options from the dataset.\n",
    "                ),\n",
    "            ]\n",
    "        ),\n",
    "        # Placeholder to render teh chart.\n",
    "        html.Div(dcc.Graph(id=\"life-exp-vs-gdp\"), className=\"chart\"),\n",
    "\n",
    "        # Slider to select year.\n",
    "        dcc.Slider(\n",
    "            \"year-slider\",\n",
    "            min=df.Year.min(), # dynamically select minimum and maximum years from the dataset.\n",
    "            max=df.Year.max(),\n",
    "            step=None,\n",
    "            marks={year: str(year) for year in range(df.Year.min(), df.Year.max() + 1)}, # set markers at one year interval.\n",
    "            value=df.Year.min(),\n",
    "        ),\n",
    "    ],\n",
    ")\n",
    "\n",
    "\n"
   ]
  },
  {
   "cell_type": "code",
   "execution_count": 19,
   "id": "274b98c3-216d-4ced-ab41-96396fc78af2",
   "metadata": {},
   "outputs": [],
   "source": [
    "@app.callback(\n",
    "    Output(\"life-exp-vs-gdp\", \"figure\"),\n",
    "    Input(\"year-slider\", \"value\"),\n",
    "    Input(\"status-dropdown\", \"value\"),\n",
    "    Input(\"schooling-dropdown\", \"value\"),\n",
    ")\n",
    "def update_figure(selected_year, country_status, schooling):\n",
    "    filtered_dataset = df[(df.Year == selected_year)]\n",
    "\n",
    "    if schooling:\n",
    "        filtered_dataset = filtered_dataset[filtered_dataset.Schooling <= schooling]\n",
    "\n",
    "    if country_status:\n",
    "        filtered_dataset = filtered_dataset[filtered_dataset.Status == country_status]\n",
    "\n",
    "    fig = px.scatter(\n",
    "        filtered_dataset,\n",
    "        x=\"GDP\",\n",
    "        y=\"Life expectancy\",\n",
    "        size=\"Population\",\n",
    "        color=\"continent\",\n",
    "        hover_name=\"Country\",\n",
    "        log_x=True,\n",
    "        size_max=60,\n",
    "    )\n",
    "\n",
    "    return fig"
   ]
  },
  {
   "cell_type": "code",
   "execution_count": 20,
   "id": "e3351d93-c748-4ffb-accb-873de1addcc9",
   "metadata": {},
   "outputs": [
    {
     "data": {
      "text/html": [
       "\n",
       "        <iframe\n",
       "            width=\"100%\"\n",
       "            height=\"650\"\n",
       "            src=\"http://127.0.0.1:8055/\"\n",
       "            frameborder=\"0\"\n",
       "            allowfullscreen\n",
       "            \n",
       "        ></iframe>\n",
       "        "
      ],
      "text/plain": [
       "<IPython.lib.display.IFrame at 0x7f9fbb61b700>"
      ]
     },
     "metadata": {},
     "output_type": "display_data"
    }
   ],
   "source": [
    "if __name__ == \"__main__\":\n",
    "    app.run_server(mode='inline', debug=True, port= 8055)"
   ]
  },
  {
   "cell_type": "code",
   "execution_count": null,
   "id": "6f5a786e-cdab-437d-a308-0919c302efa7",
   "metadata": {},
   "outputs": [],
   "source": []
  }
 ],
 "metadata": {
  "kernelspec": {
   "display_name": "Python 3 (ipykernel)",
   "language": "python",
   "name": "python3"
  },
  "language_info": {
   "codemirror_mode": {
    "name": "ipython",
    "version": 3
   },
   "file_extension": ".py",
   "mimetype": "text/x-python",
   "name": "python",
   "nbconvert_exporter": "python",
   "pygments_lexer": "ipython3",
   "version": "3.9.7"
  }
 },
 "nbformat": 4,
 "nbformat_minor": 5
}
