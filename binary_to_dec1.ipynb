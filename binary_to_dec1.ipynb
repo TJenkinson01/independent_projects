{
 "cells": [
  {
   "cell_type": "code",
   "execution_count": 22,
   "id": "211b4389",
   "metadata": {},
   "outputs": [
    {
     "data": {
      "text/plain": [
       "'10011'"
      ]
     },
     "execution_count": 22,
     "metadata": {},
     "output_type": "execute_result"
    }
   ],
   "source": [
    "# for integers \n",
    "\n",
    "num = 19\n",
    "\n",
    "if num < 0:\n",
    "    isNeg = True\n",
    "    num = abs(num)\n",
    "else:\n",
    "    isNeg = False\n",
    "    \n",
    "result = ''\n",
    "if num == 0:\n",
    "    result = '0'\n",
    "    \n",
    "while num > 0:\n",
    "    result = str(num % 2) + result\n",
    "    num = num // 2\n",
    "\n",
    "if isNeg:\n",
    "    result = '-' + result\n",
    "    \n",
    "result"
   ]
  },
  {
   "cell_type": "code",
   "execution_count": 38,
   "id": "04f8329d",
   "metadata": {},
   "outputs": [
    {
     "name": "stdout",
     "output_type": "stream",
     "text": [
      "Remainder = 0.25\n",
      "Remainder = 0.5\n",
      "The binary representation of the decimal 0.25 is .01\n"
     ]
    }
   ],
   "source": [
    "# for fractions\n",
    "\n",
    "x = float(0.25)\n",
    "p=0\n",
    "\n",
    "# shift fraction to the left to create integer, calculate binary number, shift right to return to fractional form\n",
    "while ((2**p)*x)%1 != 0:\n",
    "    print('Remainder = ' + str((2**p)*x - int((2**p)*x))) \n",
    "    p += 1\n",
    "    num = int(x*(2**p))\n",
    "    result = '' \n",
    "    \n",
    "if num == 0:\n",
    "    result = '0'\n",
    "    \n",
    "while num > 0:\n",
    "    result = str(num%2) + result \n",
    "    num = num//2\n",
    "\n",
    "for i in range(p - len(result)): \n",
    "    result = '0' + result\n",
    "    result = result[0:-p] + '.' + result[-p:]\n",
    "    print('The binary representation of the decimal ' + str(x) + ' is ' + str(result))"
   ]
  },
  {
   "cell_type": "code",
   "execution_count": null,
   "id": "025697a6",
   "metadata": {},
   "outputs": [],
   "source": []
  }
 ],
 "metadata": {
  "kernelspec": {
   "display_name": "Python 3 (ipykernel)",
   "language": "python",
   "name": "python3"
  },
  "language_info": {
   "codemirror_mode": {
    "name": "ipython",
    "version": 3
   },
   "file_extension": ".py",
   "mimetype": "text/x-python",
   "name": "python",
   "nbconvert_exporter": "python",
   "pygments_lexer": "ipython3",
   "version": "3.9.7"
  }
 },
 "nbformat": 4,
 "nbformat_minor": 5
}
